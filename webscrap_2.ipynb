{
 "cells": [
  {
   "cell_type": "code",
   "execution_count": 3,
   "id": "e451b2dd",
   "metadata": {},
   "outputs": [
    {
     "name": "stderr",
     "output_type": "stream",
     "text": [
      "/usr/lib/python3/dist-packages/requests/__init__.py:89: RequestsDependencyWarning: urllib3 (1.26.7) or chardet (3.0.4) doesn't match a supported version!\n",
      "  warnings.warn(\"urllib3 ({}) or chardet ({}) doesn't match a supported \"\n"
     ]
    }
   ],
   "source": [
    "import os\n",
    "import sys\n",
    "import re\n",
    "import time\n",
    "import string\n",
    "import unidecode\n",
    "import requests\n",
    "import datetime\n",
    "import numpy as np\n",
    "import pandas as pd\n",
    "from collections import Counter\n",
    "from bs4 import BeautifulSoup\n",
    "from selenium import webdriver\n",
    "from selenium.webdriver.common.keys import Keys"
   ]
  },
  {
   "cell_type": "code",
   "execution_count": 4,
   "id": "c3ebc19c",
   "metadata": {
    "scrolled": true
   },
   "outputs": [],
   "source": [
    "#loop to open the links\n",
    "#then I gather the links inside each page\n",
    "\n",
    "pages = list(range(0,480,30))\n",
    "#loop\n",
    "\n",
    "urls_list = []\n",
    "for i in pages:\n",
    "    complete_url = 'https://www.gov.br/planalto/pt-br/acompanhe-o-planalto/discursos?b_start:int=' + str(i)\n",
    "    urls_list.append(complete_url)"
   ]
  },
  {
   "cell_type": "code",
   "execution_count": 5,
   "id": "d1a8e791",
   "metadata": {},
   "outputs": [
    {
     "data": {
      "text/plain": [
       "['https://www.gov.br/planalto/pt-br/acompanhe-o-planalto/discursos?b_start:int=0',\n",
       " 'https://www.gov.br/planalto/pt-br/acompanhe-o-planalto/discursos?b_start:int=30',\n",
       " 'https://www.gov.br/planalto/pt-br/acompanhe-o-planalto/discursos?b_start:int=60',\n",
       " 'https://www.gov.br/planalto/pt-br/acompanhe-o-planalto/discursos?b_start:int=90',\n",
       " 'https://www.gov.br/planalto/pt-br/acompanhe-o-planalto/discursos?b_start:int=120',\n",
       " 'https://www.gov.br/planalto/pt-br/acompanhe-o-planalto/discursos?b_start:int=150',\n",
       " 'https://www.gov.br/planalto/pt-br/acompanhe-o-planalto/discursos?b_start:int=180',\n",
       " 'https://www.gov.br/planalto/pt-br/acompanhe-o-planalto/discursos?b_start:int=210',\n",
       " 'https://www.gov.br/planalto/pt-br/acompanhe-o-planalto/discursos?b_start:int=240',\n",
       " 'https://www.gov.br/planalto/pt-br/acompanhe-o-planalto/discursos?b_start:int=270',\n",
       " 'https://www.gov.br/planalto/pt-br/acompanhe-o-planalto/discursos?b_start:int=300',\n",
       " 'https://www.gov.br/planalto/pt-br/acompanhe-o-planalto/discursos?b_start:int=330',\n",
       " 'https://www.gov.br/planalto/pt-br/acompanhe-o-planalto/discursos?b_start:int=360',\n",
       " 'https://www.gov.br/planalto/pt-br/acompanhe-o-planalto/discursos?b_start:int=390',\n",
       " 'https://www.gov.br/planalto/pt-br/acompanhe-o-planalto/discursos?b_start:int=420',\n",
       " 'https://www.gov.br/planalto/pt-br/acompanhe-o-planalto/discursos?b_start:int=450']"
      ]
     },
     "execution_count": 5,
     "metadata": {},
     "output_type": "execute_result"
    }
   ],
   "source": [
    "#visualizing list\n",
    "urls_list"
   ]
  },
  {
   "cell_type": "code",
   "execution_count": 6,
   "id": "46d93ba7",
   "metadata": {},
   "outputs": [],
   "source": [
    "#scraping of the source code of the pages\n",
    "#counter\n",
    "counter = 17\n",
    "\n",
    "#creating the function\n",
    "\n",
    "def scraping_urls(urls):\n",
    "    \n",
    "    #define the driver\n",
    "    driver = webdriver.Chrome()\n",
    "    \n",
    "    #list for the results\n",
    "    soup_list = []\n",
    "    \n",
    "    #counter \n",
    "    count = 0\n",
    "    \n",
    "    #looping through the urls\n",
    "    \n",
    "    for i in urls:\n",
    "        if count < counter:\n",
    "            driver.get(i)\n",
    "            driver.refresh()\n",
    "            time.sleep(5)\n",
    "            soup_list.append(BeautifulSoup(driver.page_source,'html.parser'))\n",
    "        count += 1\n",
    "    driver.close()\n",
    "    return soup_list\n"
   ]
  },
  {
   "cell_type": "code",
   "execution_count": 7,
   "id": "627e6c1b",
   "metadata": {},
   "outputs": [],
   "source": [
    "#scraping the pages\n",
    "source = scraping_urls(urls_list)"
   ]
  },
  {
   "cell_type": "code",
   "execution_count": 8,
   "id": "323f0a50",
   "metadata": {},
   "outputs": [],
   "source": [
    "#cleaning the page's source and collecting all the links that lead us to the transcrition of the discourses\n",
    "\n",
    "#just gathering the tags in the links\n",
    "\n",
    "tag_links = []\n",
    "for s in source:\n",
    "    link=s.find_all('a', class_=\"summary url\")\n",
    "    tag_links.append(link)"
   ]
  },
  {
   "cell_type": "code",
   "execution_count": 9,
   "id": "4ede49ee",
   "metadata": {},
   "outputs": [],
   "source": [
    "#gathering the links inside the tags\n",
    "\n",
    "links = []\n",
    "for i in tag_links:\n",
    "    for j in i:\n",
    "        link=re.search(r'<a class=\"summary url\" href=\\\"(.*?)\" title=\"Document\">', str(j)).group(1)\n",
    "        links.append(link)"
   ]
  },
  {
   "cell_type": "code",
   "execution_count": 10,
   "id": "106f1b5c",
   "metadata": {},
   "outputs": [],
   "source": [
    "#scraping of the discourses' transcription\n",
    "\n",
    "#defining a function to webscrap the text in the discourses in the links\n",
    "\n",
    "def discourse_extractor(urls):\n",
    "    driver = webdriver.Chrome()\n",
    "    doc_source = []\n",
    "    for i in  urls:\n",
    "        driver.get(i)\n",
    "        time.sleep(5)\n",
    "        doc_source.append(BeautifulSoup(driver.page_source, 'html.parser'))\n",
    "    driver.close()\n",
    "    return doc_source\n"
   ]
  },
  {
   "cell_type": "code",
   "execution_count": 11,
   "id": "fb83a2a4",
   "metadata": {},
   "outputs": [],
   "source": [
    "#appling the function to the list of links\n",
    "discourses = discourse_extractor(links)"
   ]
  },
  {
   "cell_type": "code",
   "execution_count": 12,
   "id": "b12cff3c",
   "metadata": {},
   "outputs": [],
   "source": [
    "#extracting the date\n",
    "\n",
    "def date_gather(soup_object):\n",
    "    date_list=[]\n",
    "    for s in soup_object:\n",
    "        date=s.find_all('span',class_= 'documentPublished')\n",
    "        date_list.append(date)\n",
    "    return date_list"
   ]
  },
  {
   "cell_type": "code",
   "execution_count": 13,
   "id": "b6833a3d",
   "metadata": {},
   "outputs": [],
   "source": [
    "#loop to exctract the date\n",
    "\n",
    "date_list=[]\n",
    "for i in date_gather(discourses):\n",
    "    date_list.append(len(i))"
   ]
  },
  {
   "cell_type": "code",
   "execution_count": 14,
   "id": "c467bb7d",
   "metadata": {},
   "outputs": [],
   "source": [
    "#exctracting the result of the gathering\n",
    "\n",
    "dates = date_gather(discourses)"
   ]
  },
  {
   "cell_type": "code",
   "execution_count": 15,
   "id": "3139e9f4",
   "metadata": {},
   "outputs": [],
   "source": [
    "#loop to collect the date that appears on the span tag\n",
    "clean_date=[]\n",
    "for c in dates:\n",
    "    cleaner= re.search(r'<span class=\"value\"\\>(.*?)</span>',str(c)).group(1)\n",
    "    clean_date.append(cleaner)\n",
    "\n",
    "#date without time\n",
    "date_wt_time = []\n",
    "for d in clean_date:\n",
    "    wt_time=d.split(' ',1)[0]\n",
    "    date_wt_time.append(wt_time)"
   ]
  },
  {
   "cell_type": "code",
   "execution_count": 16,
   "id": "71a954aa",
   "metadata": {},
   "outputs": [],
   "source": [
    "#exctracting the text of the discourses from the links\n",
    "#using beautifulsoup to find the html tags of each paragraph and save the\n",
    "#texts in a list\n",
    "\n",
    "def text_extractor(soup_object):\n",
    "    text_list = []\n",
    "    for s in soup_object:\n",
    "        text = s.find_all('p')\n",
    "        text_list.append(text)\n",
    "    return text_list\n"
   ]
  },
  {
   "cell_type": "code",
   "execution_count": 17,
   "id": "fa6bf45a",
   "metadata": {},
   "outputs": [],
   "source": [
    "#loop to extract the text\n",
    "list_discourses = []\n",
    "for i in text_extractor(discourses):\n",
    "    list_discourses.append(len(i))\n"
   ]
  },
  {
   "cell_type": "code",
   "execution_count": 18,
   "id": "7d1c90c4",
   "metadata": {},
   "outputs": [],
   "source": [
    "#exctracting discourses\n",
    "first_discourses = text_extractor(discourses)"
   ]
  },
  {
   "cell_type": "code",
   "execution_count": 19,
   "id": "e6d36023",
   "metadata": {},
   "outputs": [
    {
     "data": {
      "text/plain": [
       "480"
      ]
     },
     "execution_count": 19,
     "metadata": {},
     "output_type": "execute_result"
    }
   ],
   "source": [
    "#verifying how many discourses were gathered\n",
    "len(first_discourses)"
   ]
  },
  {
   "cell_type": "code",
   "execution_count": 20,
   "id": "fa6143bd",
   "metadata": {},
   "outputs": [
    {
     "data": {
      "text/plain": [
       "[<p class=\"content-textcontainer\">Boa noite a todos!</p>,\n",
       " <p class=\"content-textcontainer\">Sob a proteção de Deus, chegamos a mais um Natal.</p>,\n",
       " <p class=\"content-textcontainer\">Um tempo especial na vida de todos os brasileiros. Tempo de agradecer, construir e confraternizar.</p>,\n",
       " <p class=\"content-textcontainer\">Estamos finalizando mais um ano. Um ano de muitas dificuldades. Contudo, não nos faltaram seriedade, dedicação e espírito fraterno no planejamento e na construção de políticas públicas em prol de todas as famílias brasileiras.</p>,\n",
       " <p class=\"content-textcontainer\">Em tempos de incertezas e desafios, confirmamos o que já sabíamos, que podemos confiar em nosso povo, em nosso amado Brasil e em Deus.</p>,\n",
       " <p class=\"content-textcontainer\">Com dignidade e respeito ao próximo, não economizamos esforços para apoiar a todos, em especial, os mais vulneráveis.</p>,\n",
       " <p class=\"content-textcontainer\">Não nos afastamos, em nenhum momento, do que acreditamos e defendemos: Deus, Pátria, Família e Liberdade.</p>,\n",
       " <p class=\"content-textcontainer\">Agradecemos a cada brasileiro pela confiança em nosso país.</p>,\n",
       " <p class=\"content-textcontainer\">Desejamos que todos celebrem este Natal do jeito que amamos, com nossos familiares e amigos.</p>,\n",
       " <p class=\"content-textcontainer\">Temos a honra de desejar a você e à sua família um Natal abençoado e repleto de alegrias.</p>,\n",
       " <p class=\"content-textcontainer\">Que 2022 seja um ano de esperança, conquistas e realizações.</p>,\n",
       " <p class=\"content-textcontainer\">Que Deus proteja às nossas famílias.</p>,\n",
       " <p class=\"content-textcontainer\">Muito obrigado.</p>]"
      ]
     },
     "execution_count": 20,
     "metadata": {},
     "output_type": "execute_result"
    }
   ],
   "source": [
    "#first discourses\n",
    "first_discourses[0]"
   ]
  },
  {
   "cell_type": "code",
   "execution_count": 21,
   "id": "a8fb4c4e",
   "metadata": {},
   "outputs": [],
   "source": [
    "#cleaning the text\n",
    "\n",
    "#removing tags\n",
    "def remove_html_tags(text):\n",
    "    clean = re.compile('<.*?>')\n",
    "    return re.sub(clean, '', text)\n",
    "\n",
    "strings=[]\n",
    "for d in first_discourses:\n",
    "    cleaned=remove_html_tags(str(d))\n",
    "    strings.append(cleaned)\n",
    "\n",
    "#removing \\xa0 and defining everything lower case\n",
    "\n",
    "clean = []\n",
    "for i in strings:\n",
    "    xa_remover=i.replace('\\xa0', ' ').lower()\n",
    "    clean.append(xa_remover)"
   ]
  },
  {
   "cell_type": "code",
   "execution_count": 22,
   "id": "0a408078",
   "metadata": {},
   "outputs": [],
   "source": [
    "#including space because there are cases\n",
    "#where there is no space between the ponctuation and the words\n",
    "#avoiding the concatenation of words\n",
    "\n",
    "clean_space = []\n",
    "for i in clean:\n",
    "    esp=re.sub('([.,!?()])', r' \\1 ', i)\n",
    "    clean_space.append(esp)"
   ]
  },
  {
   "cell_type": "code",
   "execution_count": 23,
   "id": "f579d4db",
   "metadata": {},
   "outputs": [],
   "source": [
    "#removing ponctuation\n",
    "def ponctuation_remover(value):\n",
    "    result = \"\"\n",
    "    for c in value:\n",
    "        if c not in string.punctuation:\n",
    "            result += c\n",
    "    return result\n",
    "\n",
    "cleaner = []\n",
    "for i in clean_space:\n",
    "    remove_pon=ponctuation_remover(i)\n",
    "    cleaner.append(remove_pon)"
   ]
  },
  {
   "cell_type": "code",
   "execution_count": 24,
   "id": "056b0301",
   "metadata": {},
   "outputs": [],
   "source": [
    "#removing withe space excess\n",
    "#retirando excesso de espaços em branco\n",
    "wt_space=[]\n",
    "for i in cleaner:\n",
    "    space_cleaner=i.replace(\"    \", \" \").replace(\"   \", \" \").replace(\"  \", \" \")\n",
    "    wt_space.append(space_cleaner)"
   ]
  },
  {
   "cell_type": "code",
   "execution_count": 25,
   "id": "a4c828ff",
   "metadata": {},
   "outputs": [],
   "source": [
    "#removing accents\n",
    "final_text=[]\n",
    "for i in wt_space:\n",
    "    wt_accent=unidecode.unidecode(i)\n",
    "    final_text.append(wt_accent)"
   ]
  },
  {
   "cell_type": "code",
   "execution_count": 26,
   "id": "1a4da458",
   "metadata": {},
   "outputs": [],
   "source": [
    "#formatting the dates\n",
    "final_dates=pd.to_datetime(date_wt_time, format='%d/%m/%Y')"
   ]
  },
  {
   "cell_type": "code",
   "execution_count": 27,
   "id": "4913c151",
   "metadata": {},
   "outputs": [],
   "source": [
    "#creating panda object with just the years\n",
    "years=pd.DatetimeIndex(final_dates).year"
   ]
  },
  {
   "cell_type": "code",
   "execution_count": 28,
   "id": "ed428807",
   "metadata": {},
   "outputs": [
    {
     "data": {
      "text/html": [
       "<div>\n",
       "<style scoped>\n",
       "    .dataframe tbody tr th:only-of-type {\n",
       "        vertical-align: middle;\n",
       "    }\n",
       "\n",
       "    .dataframe tbody tr th {\n",
       "        vertical-align: top;\n",
       "    }\n",
       "\n",
       "    .dataframe thead th {\n",
       "        text-align: right;\n",
       "    }\n",
       "</style>\n",
       "<table border=\"1\" class=\"dataframe\">\n",
       "  <thead>\n",
       "    <tr style=\"text-align: right;\">\n",
       "      <th></th>\n",
       "      <th>presidente</th>\n",
       "      <th>data</th>\n",
       "      <th>ano</th>\n",
       "      <th>link</th>\n",
       "      <th>transcricao</th>\n",
       "    </tr>\n",
       "  </thead>\n",
       "  <tbody>\n",
       "    <tr>\n",
       "      <th>0</th>\n",
       "      <td>bolsonaro</td>\n",
       "      <td>2021-12-24</td>\n",
       "      <td>2021</td>\n",
       "      <td>https://www.gov.br/planalto/pt-br/acompanhe-o-...</td>\n",
       "      <td>boa noite a todos sob a protecao de deus chega...</td>\n",
       "    </tr>\n",
       "    <tr>\n",
       "      <th>1</th>\n",
       "      <td>bolsonaro</td>\n",
       "      <td>2021-12-17</td>\n",
       "      <td>2021</td>\n",
       "      <td>https://www.gov.br/planalto/pt-br/acompanhe-o-...</td>\n",
       "      <td>e com satisfacao que dou as boasvindas a todos...</td>\n",
       "    </tr>\n",
       "    <tr>\n",
       "      <th>2</th>\n",
       "      <td>bolsonaro</td>\n",
       "      <td>2021-12-16</td>\n",
       "      <td>2021</td>\n",
       "      <td>https://www.gov.br/planalto/pt-br/acompanhe-o-...</td>\n",
       "      <td>a gente colocasse aqui na frente o juca do me...</td>\n",
       "    </tr>\n",
       "    <tr>\n",
       "      <th>3</th>\n",
       "      <td>bolsonaro</td>\n",
       "      <td>2021-12-16</td>\n",
       "      <td>2021</td>\n",
       "      <td>https://www.gov.br/planalto/pt-br/acompanhe-o-...</td>\n",
       "      <td>a gente colocasse aqui na frente o juca do me...</td>\n",
       "    </tr>\n",
       "    <tr>\n",
       "      <th>4</th>\n",
       "      <td>bolsonaro</td>\n",
       "      <td>2021-12-14</td>\n",
       "      <td>2021</td>\n",
       "      <td>https://www.gov.br/planalto/pt-br/acompanhe-o-...</td>\n",
       "      <td>bom dia a todos e uma satisfacao velos aqui e ...</td>\n",
       "    </tr>\n",
       "  </tbody>\n",
       "</table>\n",
       "</div>"
      ],
      "text/plain": [
       "  presidente       data   ano  \\\n",
       "0  bolsonaro 2021-12-24  2021   \n",
       "1  bolsonaro 2021-12-17  2021   \n",
       "2  bolsonaro 2021-12-16  2021   \n",
       "3  bolsonaro 2021-12-16  2021   \n",
       "4  bolsonaro 2021-12-14  2021   \n",
       "\n",
       "                                                link  \\\n",
       "0  https://www.gov.br/planalto/pt-br/acompanhe-o-...   \n",
       "1  https://www.gov.br/planalto/pt-br/acompanhe-o-...   \n",
       "2  https://www.gov.br/planalto/pt-br/acompanhe-o-...   \n",
       "3  https://www.gov.br/planalto/pt-br/acompanhe-o-...   \n",
       "4  https://www.gov.br/planalto/pt-br/acompanhe-o-...   \n",
       "\n",
       "                                         transcricao  \n",
       "0  boa noite a todos sob a protecao de deus chega...  \n",
       "1  e com satisfacao que dou as boasvindas a todos...  \n",
       "2   a gente colocasse aqui na frente o juca do me...  \n",
       "3   a gente colocasse aqui na frente o juca do me...  \n",
       "4  bom dia a todos e uma satisfacao velos aqui e ...  "
      ]
     },
     "execution_count": 28,
     "metadata": {},
     "output_type": "execute_result"
    }
   ],
   "source": [
    "#creating the dataframe\n",
    "\n",
    "bolsonaro_discursos=pd.DataFrame([final_dates, years, links,final_text]).T\n",
    "bolsonaro_discursos.columns=['data', 'ano', 'link', 'transcricao']\n",
    "bolsonaro_discursos.insert(0,'presidente', 'bolsonaro')\n",
    "bolsonaro_discursos.head(5)"
   ]
  },
  {
   "cell_type": "code",
   "execution_count": 29,
   "id": "47b2a73c",
   "metadata": {},
   "outputs": [],
   "source": [
    "#creating a csv file\n",
    "bolsonaro_discursos.to_csv('bolsonaro_discursos.csv')"
   ]
  },
  {
   "cell_type": "code",
   "execution_count": null,
   "id": "db473948",
   "metadata": {},
   "outputs": [],
   "source": []
  }
 ],
 "metadata": {
  "kernelspec": {
   "display_name": "Python 3 (ipykernel)",
   "language": "python",
   "name": "python3"
  },
  "language_info": {
   "codemirror_mode": {
    "name": "ipython",
    "version": 3
   },
   "file_extension": ".py",
   "mimetype": "text/x-python",
   "name": "python",
   "nbconvert_exporter": "python",
   "pygments_lexer": "ipython3",
   "version": "3.8.5"
  }
 },
 "nbformat": 4,
 "nbformat_minor": 5
}
