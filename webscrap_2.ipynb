{
 "cells": [
  {
   "cell_type": "code",
   "execution_count": 1,
   "id": "e451b2dd",
   "metadata": {},
   "outputs": [],
   "source": [
    "from bs4 import BeautifulSoup\n",
    "import pandas as pd\n",
    "import requests\n",
    "import pprint as pp"
   ]
  },
  {
   "cell_type": "code",
   "execution_count": 22,
   "id": "c3ebc19c",
   "metadata": {
    "scrolled": true
   },
   "outputs": [
    {
     "name": "stdout",
     "output_type": "stream",
     "text": [
      "https://www.gov.br/planalto/pt-br/acompanhe-o-planalto/discursos/2021/discurso-do-presidente-da-republica-jair-bolsonaro-na-sessao-especial-do-centro-global-rei-hamad-para-a-coexistencia-pacifica-manama-bahrein\n",
      "https://www.gov.br/planalto/pt-br/acompanhe-o-planalto/discursos/2021/discurso-do-presidente-da-republica-jair-bolsonaro-na-solenidade-de-lancamento-do-programa-brasil-fraterno-comida-no-prato-palacio-do-planalto\n",
      "https://www.gov.br/planalto/pt-br/acompanhe-o-planalto/discursos/2021/discurso-do-presidente-da-republica-jair-bolsonaro-na-solenidade-de-consolidacao-do-marco-regulatorio-trabalhista-infralegal-palacio-do-planalto\n",
      "https://www.gov.br/planalto/pt-br/acompanhe-o-planalto/discursos/2021/discurso-do-presidente-da-republica-jair-bolsonaro-na-cerimonia-de-anuncios-do-governo-federal-ao-estado-do-parana\n",
      "https://www.gov.br/planalto/pt-br/acompanhe-o-planalto/discursos/2021/discurso-do-presidente-da-republica-jair-bolsonaro-no-leilao-do-5g-brasilia-df\n",
      "https://www.gov.br/planalto/pt-br/acompanhe-o-planalto/discursos/2021/discurso-do-presidente-da-republica-jair-bolsonaro-no-5o-forum-nacional-de-controle-educacao-no-pos-pandemia-desafios-e-oportunidades-brasilia-df\n",
      "https://www.gov.br/planalto/pt-br/acompanhe-o-planalto/discursos/2021/discurso-do-presidente-da-republica-jair-bolsonaro-na-cerimonia-em-memoria-dos-pracinhas-brasileiros-mortos-na-segunda-guerra-mundial-pistoia-italia\n",
      "https://www.gov.br/planalto/pt-br/acompanhe-o-planalto/discursos/2021/mensagem-do-presidente-da-republica-jair-bolsonaro-na-conferencia-das-nacoes-unidas-sobre-mudancas-climaticas-de-2021\n",
      "https://www.gov.br/planalto/pt-br/acompanhe-o-planalto/discursos/2021/discurso-do-presidente-da-republica-jair-bolsonaro-na-sessao-i-economia-e-saude-global-da-16-cupula-do-g20-roma-italia\n",
      "https://www.gov.br/planalto/pt-br/acompanhe-o-planalto/discursos/2021/discurso-do-presidente-da-republica-jair-bolsonaro-na-cerimonia-alusiva-ao-dia-do-servidor-publico-palacio-do-planalto\n",
      "https://www.gov.br/planalto/pt-br/acompanhe-o-planalto/discursos/2021/discurso-do-presidente-da-republica-jair-bolsonaro-na-primeira-consagracao-publica-de-pastores-do-estado-do-amazonas-manaus-am\n",
      "https://www.gov.br/planalto/pt-br/acompanhe-o-planalto/discursos/2021/discurso-do-presidente-da-republica-jair-bolsonaro-no-culto-em-comemoracao-aos-106-anos-da-assembleia-de-deus-manaus-am\n",
      "https://www.gov.br/planalto/pt-br/acompanhe-o-planalto/discursos/2021/discurso-do-presidente-da-republica-jair-bolsonaro-na-cerimonia-de-inauguracao-do-ramal-do-agreste-sertania-pe\n",
      "https://www.gov.br/planalto/pt-br/acompanhe-o-planalto/discursos/2021/discurso-do-presidente-da-republica-jair-bolsonaro-na-cerimonia-de-inauguracao-da-obra-do-trecho-final-do-eixo-norte-do-projeto-de-integracao-do-rio-sao-francisco-sao-jose-de-piranhas-pb\n",
      "https://www.gov.br/planalto/pt-br/acompanhe-o-planalto/discursos/2021/discurso-do-presidente-da-republica-jair-bolsonaro-na-de-cerimonia-de-sancao-do-pl-5919-19-palacio-do-planalto\n",
      "https://www.gov.br/planalto/pt-br/acompanhe-o-planalto/discursos/2021/discurso-do-presidente-da-republica-jair-bolsonaro-na-jornada-das-aguas-lancamento-do-edital-de-construcao-do-ramal-de-salgado-russas-ce\n",
      "https://www.gov.br/planalto/pt-br/acompanhe-o-planalto/discursos/2021/declaracao-conjunta-do-presidente-da-republica-jair-bolsonaro-e-do-presidente-da-colombia-senhor-ivan-duque-marquez-apos-visita-oficial-no-palacio-do-planalto\n",
      "https://www.gov.br/planalto/pt-br/acompanhe-o-planalto/discursos/2021/discurso-do-presidente-da-republica-jair-bolsonaro-na-cerimonia-alusiva-ao-lancamento-da-jornada-das-aguas-sao-roque-mg\n",
      "https://www.gov.br/planalto/pt-br/acompanhe-o-planalto/discursos/2021/discurso-do-presidente-da-republica-jair-bolsonaro-na-conferencia-global-2021-millenium-brasilia-df\n",
      "https://www.gov.br/planalto/pt-br/acompanhe-o-planalto/discursos/2021/discurso-do-presidente-da-republica-jair-bolsonaro-na-cerimonia-de-entrega-de-titulos-de-propriedade-rural-miracatu-sp\n",
      "https://www.gov.br/planalto/pt-br/acompanhe-o-planalto/discursos/2021/discurso-do-presidente-da-republica-jair-bolsonaro-cerimonia-alusiva-a-1a-feira-brasileira-do-niobio-sirius-2013-hall-experimental-2013-c10-campinas-sp\n",
      "https://www.gov.br/planalto/pt-br/acompanhe-o-planalto/discursos/2021/discurso-do-presidente-da-republica-jair-bolsonaro-cerimonia-de-modernizacao-de-normas-de-seguranca-e-saude-no-trabalho-palacio-do-planalto\n",
      "https://www.gov.br/planalto/pt-br/acompanhe-o-planalto/discursos/2021/discurso-do-presidente-da-republica-jair-bolsonaro-na-recepcao-aos-atletas-olimpicos-e-paralimpicos-palacio-do-planalto\n",
      "https://www.gov.br/planalto/pt-br/acompanhe-o-planalto/discursos/2021/discurso-do-presidente-da-republica-jair-bolsonaro-na-cerimonia-de-entrega-das-obras-de-modernizacao-do-aeroporto-de-maringa-e-de-inauguracao-da-hidreletrica-de-bela-vista-maringa-pr\n",
      "https://www.gov.br/planalto/pt-br/acompanhe-o-planalto/discursos/2021/discurso-do-presidente-da-republica-jair-bolsonaro-na-cerimonia-de-assinatura-do-decreto-da-cedula-de-produto-rural-verde-palacio-do-planalto\n",
      "https://www.gov.br/planalto/pt-br/acompanhe-o-planalto/discursos/2021/discurso-do-presidente-da-republica-jair-bolsonaro-na-cerimonia-de-sancao-do-pln-para-obras-do-metro-de-bh-e-de-lancamento-de-pedra-fundamental-do-centro-nacional-de-vacinas-mcti-2013-ufmg-belo-horizonte-mg\n",
      "https://www.gov.br/planalto/pt-br/acompanhe-o-planalto/discursos/2021/discurso-do-presidente-da-republica-jair-bolsonaro-no-ato-publico-com-o-governador-de-roraima-antonio-denarium-boa-vista-rr\n",
      "https://www.gov.br/planalto/pt-br/acompanhe-o-planalto/discursos/2021/discurso-do-presidente-da-republica-jair-bolsonaro-na-cerimonia-alusiva-a-inauguracao-da-ute-jaguatirica-ii-a-concessao-dos-aeroportos-do-bloco-norte-e-a-entrega-de-veiculos-do-programa-alimenta-brasil-boa-vista-rr\n",
      "https://www.gov.br/planalto/pt-br/acompanhe-o-planalto/discursos/2021/discurso-do-presidente-da-republica-jair-bolsonaro-na-cerimonia-de-entrega-do-residencial-dr-marcelo-vilela-teotonio-vilela-al\n",
      "https://www.gov.br/planalto/pt-br/acompanhe-o-planalto/discursos/2021/discurso-do-presidente-da-republica-jair-bolsonaro-na-cerimonia-de-inauguracao-da-estacao-cidadania-de-entrega-de-titulos-de-propriedades-rurais-e-de-anuncio-de-duplicacao-da-br-116-e-da-br-101-teixeira-de-freitas-ba\n"
     ]
    }
   ],
   "source": [
    "url = \"https://www.gov.br/planalto/pt-br/acompanhe-o-planalto/discursos\"\n",
    "page = requests.get(url)\n",
    "\n",
    "soup = BeautifulSoup(page.content, \"html.parser\")\n",
    "for a_href in soup.findAll(class_='summary url'):\n",
    "    print(a_href[\"href\"])\n",
    "#link_container = soup.findAll(class_='summary url')\n",
    "#print(link_container)"
   ]
  },
  {
   "cell_type": "code",
   "execution_count": 24,
   "id": "d1a8e791",
   "metadata": {},
   "outputs": [],
   "source": [
    "archive_links = [\"https://www.gov.br/planalto/pt-br/acompanhe-o-planalto/discursos/2021/discurso-do-presidente-da-republica-jair-bolsonaro-na-sessao-especial-do-centro-global-rei-hamad-para-a-coexistencia-pacifica-manama-bahrein\",\n",
    "\"https://www.gov.br/planalto/pt-br/acompanhe-o-planalto/discursos/2021/discurso-do-presidente-da-republica-jair-bolsonaro-na-solenidade-de-lancamento-do-programa-brasil-fraterno-comida-no-prato-palacio-do-planalto\",\n",
    "\"https://www.gov.br/planalto/pt-br/acompanhe-o-planalto/discursos/2021/discurso-do-presidente-da-republica-jair-bolsonaro-na-solenidade-de-consolidacao-do-marco-regulatorio-trabalhista-infralegal-palacio-do-planalto\",\n",
    "\"https://www.gov.br/planalto/pt-br/acompanhe-o-planalto/discursos/2021/discurso-do-presidente-da-republica-jair-bolsonaro-na-cerimonia-de-anuncios-do-governo-federal-ao-estado-do-parana\",\n",
    "\"https://www.gov.br/planalto/pt-br/acompanhe-o-planalto/discursos/2021/discurso-do-presidente-da-republica-jair-bolsonaro-no-leilao-do-5g-brasilia-df\",\n",
    "\"https://www.gov.br/planalto/pt-br/acompanhe-o-planalto/discursos/2021/discurso-do-presidente-da-republica-jair-bolsonaro-no-5o-forum-nacional-de-controle-educacao-no-pos-pandemia-desafios-e-oportunidades-brasilia-df\",\n",
    "\"https://www.gov.br/planalto/pt-br/acompanhe-o-planalto/discursos/2021/discurso-do-presidente-da-republica-jair-bolsonaro-na-cerimonia-em-memoria-dos-pracinhas-brasileiros-mortos-na-segunda-guerra-mundial-pistoia-italia\",\n",
    "\"https://www.gov.br/planalto/pt-br/acompanhe-o-planalto/discursos/2021/mensagem-do-presidente-da-republica-jair-bolsonaro-na-conferencia-das-nacoes-unidas-sobre-mudancas-climaticas-de-2021\",\n",
    "\"https://www.gov.br/planalto/pt-br/acompanhe-o-planalto/discursos/2021/discurso-do-presidente-da-republica-jair-bolsonaro-na-sessao-i-economia-e-saude-global-da-16-cupula-do-g20-roma-italia\",\n",
    "\"https://www.gov.br/planalto/pt-br/acompanhe-o-planalto/discursos/2021/discurso-do-presidente-da-republica-jair-bolsonaro-na-cerimonia-alusiva-ao-dia-do-servidor-publico-palacio-do-planalto\",\n",
    "\"https://www.gov.br/planalto/pt-br/acompanhe-o-planalto/discursos/2021/discurso-do-presidente-da-republica-jair-bolsonaro-na-primeira-consagracao-publica-de-pastores-do-estado-do-amazonas-manaus-am\",\n",
    "\"https://www.gov.br/planalto/pt-br/acompanhe-o-planalto/discursos/2021/discurso-do-presidente-da-republica-jair-bolsonaro-no-culto-em-comemoracao-aos-106-anos-da-assembleia-de-deus-manaus-am\",\n",
    "\"https://www.gov.br/planalto/pt-br/acompanhe-o-planalto/discursos/2021/discurso-do-presidente-da-republica-jair-bolsonaro-na-cerimonia-de-inauguracao-do-ramal-do-agreste-sertania-pe\",\n",
    "\"https://www.gov.br/planalto/pt-br/acompanhe-o-planalto/discursos/2021/discurso-do-presidente-da-republica-jair-bolsonaro-na-cerimonia-de-inauguracao-da-obra-do-trecho-final-do-eixo-norte-do-projeto-de-integracao-do-rio-sao-francisco-sao-jose-de-piranhas-pb\",\n",
    "\"https://www.gov.br/planalto/pt-br/acompanhe-o-planalto/discursos/2021/discurso-do-presidente-da-republica-jair-bolsonaro-na-de-cerimonia-de-sancao-do-pl-5919-19-palacio-do-planalto\",\n",
    "\"https://www.gov.br/planalto/pt-br/acompanhe-o-planalto/discursos/2021/discurso-do-presidente-da-republica-jair-bolsonaro-na-jornada-das-aguas-lancamento-do-edital-de-construcao-do-ramal-de-salgado-russas-ce\",\n",
    "\"https://www.gov.br/planalto/pt-br/acompanhe-o-planalto/discursos/2021/declaracao-conjunta-do-presidente-da-republica-jair-bolsonaro-e-do-presidente-da-colombia-senhor-ivan-duque-marquez-apos-visita-oficial-no-palacio-do-planalto\",\n",
    "\"https://www.gov.br/planalto/pt-br/acompanhe-o-planalto/discursos/2021/discurso-do-presidente-da-republica-jair-bolsonaro-na-cerimonia-alusiva-ao-lancamento-da-jornada-das-aguas-sao-roque-mg\",\n",
    "\"https://www.gov.br/planalto/pt-br/acompanhe-o-planalto/discursos/2021/discurso-do-presidente-da-republica-jair-bolsonaro-na-conferencia-global-2021-millenium-brasilia-df\",\n",
    "\"https://www.gov.br/planalto/pt-br/acompanhe-o-planalto/discursos/2021/discurso-do-presidente-da-republica-jair-bolsonaro-na-cerimonia-de-entrega-de-titulos-de-propriedade-rural-miracatu-sp\",\n",
    "\"https://www.gov.br/planalto/pt-br/acompanhe-o-planalto/discursos/2021/discurso-do-presidente-da-republica-jair-bolsonaro-cerimonia-alusiva-a-1a-feira-brasileira-do-niobio-sirius-2013-hall-experimental-2013-c10-campinas-sp\",\n",
    "\"https://www.gov.br/planalto/pt-br/acompanhe-o-planalto/discursos/2021/discurso-do-presidente-da-republica-jair-bolsonaro-cerimonia-de-modernizacao-de-normas-de-seguranca-e-saude-no-trabalho-palacio-do-planalto\",\n",
    "\"https://www.gov.br/planalto/pt-br/acompanhe-o-planalto/discursos/2021/discurso-do-presidente-da-republica-jair-bolsonaro-na-recepcao-aos-atletas-olimpicos-e-paralimpicos-palacio-do-planalto\",\n",
    "\"https://www.gov.br/planalto/pt-br/acompanhe-o-planalto/discursos/2021/discurso-do-presidente-da-republica-jair-bolsonaro-na-cerimonia-de-entrega-das-obras-de-modernizacao-do-aeroporto-de-maringa-e-de-inauguracao-da-hidreletrica-de-bela-vista-maringa-pr\",\n",
    "\"https://www.gov.br/planalto/pt-br/acompanhe-o-planalto/discursos/2021/discurso-do-presidente-da-republica-jair-bolsonaro-na-cerimonia-de-assinatura-do-decreto-da-cedula-de-produto-rural-verde-palacio-do-planalto\",\n",
    "\"https://www.gov.br/planalto/pt-br/acompanhe-o-planalto/discursos/2021/discurso-do-presidente-da-republica-jair-bolsonaro-na-cerimonia-de-sancao-do-pln-para-obras-do-metro-de-bh-e-de-lancamento-de-pedra-fundamental-do-centro-nacional-de-vacinas-mcti-2013-ufmg-belo-horizonte-mg\",\n",
    "\"https://www.gov.br/planalto/pt-br/acompanhe-o-planalto/discursos/2021/discurso-do-presidente-da-republica-jair-bolsonaro-no-ato-publico-com-o-governador-de-roraima-antonio-denarium-boa-vista-rr\",\n",
    "\"https://www.gov.br/planalto/pt-br/acompanhe-o-planalto/discursos/2021/discurso-do-presidente-da-republica-jair-bolsonaro-na-cerimonia-alusiva-a-inauguracao-da-ute-jaguatirica-ii-a-concessao-dos-aeroportos-do-bloco-norte-e-a-entrega-de-veiculos-do-programa-alimenta-brasil-boa-vista-rr\",\n",
    "\"https://www.gov.br/planalto/pt-br/acompanhe-o-planalto/discursos/2021/discurso-do-presidente-da-republica-jair-bolsonaro-na-cerimonia-de-entrega-do-residencial-dr-marcelo-vilela-teotonio-vilela-al\",\n",
    "\"https://www.gov.br/planalto/pt-br/acompanhe-o-planalto/discursos/2021/discurso-do-presidente-da-republica-jair-bolsonaro-na-cerimonia-de-inauguracao-da-estacao-cidadania-de-entrega-de-titulos-de-propriedades-rurais-e-de-anuncio-de-duplicacao-da-br-116-e-da-br-101-teixeira-de-freitas-ba\"]\n"
   ]
  },
  {
   "cell_type": "code",
   "execution_count": 25,
   "id": "46d93ba7",
   "metadata": {},
   "outputs": [],
   "source": [
    "for link in archive_links:\n",
    "    page = requests.get(link)\n",
    "    soup = BeautifulSoup(page.content, \"html.parser\")\n",
    "    \n",
    "    for a_href in soup.findAll(class_='summary url'):\n",
    "        with open(\"link_test.txt\",\"a\") as linkfile:\n",
    "            linkfile.write(a_href[\"href\"]+\"\\n\")"
   ]
  },
  {
   "cell_type": "code",
   "execution_count": 26,
   "id": "627e6c1b",
   "metadata": {},
   "outputs": [
    {
     "name": "stdout",
     "output_type": "stream",
     "text": [
      "link_test.txt\n"
     ]
    }
   ],
   "source": []
  }
 ],
 "metadata": {
  "kernelspec": {
   "display_name": "Python 3 (ipykernel)",
   "language": "python",
   "name": "python3"
  },
  "language_info": {
   "codemirror_mode": {
    "name": "ipython",
    "version": 3
   },
   "file_extension": ".py",
   "mimetype": "text/x-python",
   "name": "python",
   "nbconvert_exporter": "python",
   "pygments_lexer": "ipython3",
   "version": "3.8.5"
  }
 },
 "nbformat": 4,
 "nbformat_minor": 5
}
